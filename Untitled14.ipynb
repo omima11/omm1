{
 "cells": [
  {
   "cell_type": "code",
   "execution_count": 4,
   "metadata": {},
   "outputs": [],
   "source": []
  },
  {
   "cell_type": "code",
   "execution_count": 6,
   "metadata": {},
   "outputs": [],
   "source": []
  },
  {
   "cell_type": "code",
   "execution_count": null,
   "metadata": {},
   "outputs": [],
   "source": []
  },
  {
   "cell_type": "code",
   "execution_count": 9,
   "metadata": {},
   "outputs": [],
   "source": []
  },
  {
   "cell_type": "code",
   "execution_count": 10,
   "metadata": {},
   "outputs": [
    {
     "name": "stdout",
     "output_type": "stream",
     "text": [
      "1. الحرب على غزة مباشر.. ارتفاع عدد شهداء التجويع والاحتلال يقصف اليمن\n",
      "2. ماذا بعد إعلان الأمم المتحدة المجاعة في غزة؟\n",
      "3. ماذا بعد إعلان الأمم المتحدة المجاعة في غزة؟\n",
      "4. 14 مقاتلة إسرائيلية تقصف صنعاء بـ40 صاروخا\n",
      "5. 14 مقاتلة إسرائيلية تقصف صنعاء بـ40 صاروخا\n"
     ]
    }
   ],
   "source": [
    "import requests\n",
    "from bs4 import BeautifulSoup\n",
    "\n",
    "# نحدد رابط الموقع الذي نريد سحب البيانات منه\n",
    "url = \"https://www.aljazeera.net\"\n",
    "\n",
    "# نرسل طلب للموقع\n",
    "response = requests.get(url)\n",
    "\n",
    "# نتأكد من أن الطلب تم بنجاح\n",
    "if response.status_code == 200:\n",
    "    # نحول محتوى الصفحة إلى كائن BeautifulSoup\n",
    "    soup = BeautifulSoup(response.text, 'html.parser')\n",
    "    # نبحث عن العناوين (غالبًا ما تكون داخل الوسوم h3 أو a)\n",
    "    headlines = soup.find_all('h3')  # يمكن تغيير الوسم حسب الموقع\n",
    "\n",
    "    # نطبع أول 5 عناوين كمثال\n",
    "    for i, headline in enumerate(headlines[:5]):\n",
    "        print(f\"{i+1}. {headline.text.strip()}\")\n",
    "else:\n",
    "    print(\"فشل الاتصال بالموقع.\")"
   ]
  },
  {
   "cell_type": "code",
   "execution_count": null,
   "metadata": {},
   "outputs": [],
   "source": []
  }
 ],
 "metadata": {
  "kernelspec": {
   "display_name": "Python 3",
   "language": "python",
   "name": "python3"
  },
  "language_info": {
   "codemirror_mode": {
    "name": "ipython",
    "version": 3
   },
   "file_extension": ".py",
   "mimetype": "text/x-python",
   "name": "python",
   "nbconvert_exporter": "python",
   "pygments_lexer": "ipython3",
   "version": "3.8.5"
  }
 },
 "nbformat": 4,
 "nbformat_minor": 4
}
