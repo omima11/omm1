{
 "cells": [
  {
   "cell_type": "code",
   "execution_count": 9,
   "metadata": {},
   "outputs": [
    {
     "data": {
      "text/plain": [
       "{'allergies', 'common cold', 'covid19', 'flu'}"
      ]
     },
     "execution_count": 9,
     "metadata": {},
     "output_type": "execute_result"
    }
   ],
   "source": [
    "#GET BASE KNOWLEDGE \n",
    "\n",
    "import pandas as pd\n",
    "# import pandas to load and process spreadsheet-type data\n",
    "\n",
    "medical_dataset=pd.read_csv('medical_data.csv') \n",
    "\n",
    "# load a medical dataset.\n",
    "\n",
    "medical_dataset\n",
    "set(medical_dataset['diagnosis'])\n"
   ]
  },
  {
   "cell_type": "code",
   "execution_count": 7,
   "metadata": {},
   "outputs": [
    {
     "name": "stdout",
     "output_type": "stream",
     "text": [
      "(50, 14)\n",
      "(2, 14)\n"
     ]
    }
   ],
   "source": [
    "#SPLIT DB  \n",
    "\n",
    "\n",
    "from sklearn.model_selection import train_test_split\n",
    "\n",
    "# use the function to split the data, get 30% for testing and 70% for training.\n",
    "train_data, test_data = train_test_split(medical_dataset, test_size=0.03, random_state=42)\n",
    "\n",
    "#print the shapes (rows x columns) of the two datasets\n",
    "print(train_data.shape)\n",
    "print(test_data.shape)\n"
   ]
  },
  {
   "cell_type": "code",
   "execution_count": 3,
   "metadata": {},
   "outputs": [
    {
     "data": {
      "text/plain": [
       "DecisionTreeClassifier(random_state=1)"
      ]
     },
     "execution_count": 3,
     "metadata": {},
     "output_type": "execute_result"
    }
   ],
   "source": [
    "#CREATE MODEL\n",
    "\n",
    "\n",
    "from sklearn.tree import DecisionTreeClassifier\n",
    "\n",
    "    \n",
    "# create a Decision Tree Classifier\n",
    "model=DecisionTreeClassifier(random_state=1)\n",
    "\n",
    "# get the diagnosis column, to be used as the classification target\n",
    "train_diagnoses=train_data['diagnosis']\n",
    "\n",
    "# drop the diagnosis column to get only the symptoms\n",
    "train_patient_symptoms=train_data.drop(columns=['diagnosis'])\n",
    "\n",
    "# build a decision tree\n",
    "model.fit(train_patient_symptoms, train_diagnoses)\n",
    "\n",
    "# return the trained model"
   ]
  },
  {
   "cell_type": "code",
   "execution_count": 4,
   "metadata": {},
   "outputs": [
    {
     "name": "stdout",
     "output_type": "stream",
     "text": [
      "['allergies' 'covid19' 'allergies' 'flu' 'flu' 'allergies' 'covid19'\n",
      " 'allergies' 'covid19' 'allergies' 'flu' 'allergies' 'allergies' 'flu'\n",
      " 'covid19' 'covid19' 'flu' 'covid19' 'common cold' 'common cold' 'flu'\n",
      " 'common cold' 'allergies' 'allergies' 'common cold' 'covid19' 'allergies'\n",
      " 'flu' 'flu' 'covid19' 'flu' 'covid19' 'flu' 'flu' 'allergies' 'covid19'\n",
      " 'common cold' 'allergies' 'allergies' 'flu' 'flu' 'common cold' 'covid19'\n",
      " 'flu' 'allergies' 'flu' 'covid19' 'flu' 'covid19' 'allergies'\n",
      " 'common cold' 'covid19' 'allergies' 'common cold' 'flu' 'common cold'\n",
      " 'allergies' 'common cold' 'allergies' 'covid19']\n"
     ]
    },
    {
     "data": {
      "text/plain": [
       "0.7833333333333333"
      ]
     },
     "execution_count": 4,
     "metadata": {},
     "output_type": "execute_result"
    }
   ],
   "source": [
    "#TEST DATA\n",
    "\n",
    "\n",
    "# functions used to evaluate a classifier\n",
    "from sklearn.metrics import accuracy_score,confusion_matrix\n",
    "\n",
    "# drop the diagnosis column to get only the symptoms\n",
    "test_patient_symptoms=test_data.drop(columns=['diagnosis'])\n",
    "\n",
    "# get the diagnosis column, to be used as the classification target\n",
    "test_diagnoses=test_data['diagnosis']\n",
    "\n",
    "# guess the most likely diagnoses\n",
    "pred=model.predict(test_patient_symptoms)\n",
    "print(pred)\n",
    "#print the achieved accuracy score\n",
    "accuracy_score(test_diagnoses,pred)"
   ]
  },
  {
   "cell_type": "code",
   "execution_count": 5,
   "metadata": {},
   "outputs": [
    {
     "data": {
      "text/plain": [
       "array([[13,  0,  0,  1],\n",
       "       [ 5,  9,  0,  0],\n",
       "       [ 0,  1, 12,  3],\n",
       "       [ 0,  0,  3, 13]], dtype=int64)"
      ]
     },
     "execution_count": 5,
     "metadata": {},
     "output_type": "execute_result"
    }
   ],
   "source": [
    "confusion_matrix(test_diagnoses,pred)"
   ]
  },
  {
   "cell_type": "code",
   "execution_count": 8,
   "metadata": {},
   "outputs": [
    {
     "name": "stdout",
     "output_type": "stream",
     "text": [
      "{'Wisconsin ', 'District of Columbia', 'New York', 'Oklahoma ', 'Kansas ', 'Maine ', 'Arkansas ', 'Delaware ', 'Texas ', 'Montana ', 'Iowa ', 'Michigan ', 'New Hampshire ', 'Mississippi ', 'United States', 'Georgia ', 'Tennessee ', 'Virginia ', 'Ohio ', 'Nebraska ', 'Rhode Island', 'Nevada', 'Vermont', 'Washington', 'Idaho', 'Massachusetts', 'North Carolina ', 'Indiana ', 'Florida ', 'Maryland', 'Kentucky', 'South Dakota ', 'Utah ', 'Alaska ', 'Arizona ', 'Hawaii', 'California', 'West Virginia ', 'Missouri ', 'Louisiana ', 'Alabama ', 'Wyoming', 'Pennsylvania ', 'Connecticut', 'Minnesota', 'New Jersey ', 'New Mexico', 'Oregon', 'Illinois ', 'Colorado', 'North Dakota ', 'South Carolina '}\n"
     ]
    }
   ],
   "source": [
    "import pandas as pd\n",
    "\n",
    "# تحميل مجموعة بيانات جديدة\n",
    "medical_dataset = pd.read_csv('states.csv')\n",
    "\n",
    "# عرض القيم الفريدة في عمود 'State'\n",
    "unique_states = set(medical_dataset['State'])\n",
    "print(unique_states)"
   ]
  },
  {
   "cell_type": "code",
   "execution_count": 10,
   "metadata": {},
   "outputs": [
    {
     "name": "stdout",
     "output_type": "stream",
     "text": [
      "Training data shape: (50, 14)\n",
      "Testing data shape: (2, 14)\n"
     ]
    }
   ],
   "source": [
    "import pandas as pd\n",
    "from sklearn.model_selection import train_test_split\n",
    "\n",
    "# تحميل مجموعة بيانات\n",
    "medical_dataset = pd.read_csv('states.csv')\n",
    "\n",
    "# تقسيم البيانات إلى مجموعة تدريب (70%) ومجموعة اختبار (30%)\n",
    "train_data, test_data = train_test_split(medical_dataset, test_size=0.03, random_state=42)\n",
    "\n",
    "# طباعة الأبعاد (الصفوف × الأعمدة) لمجموعتي البيانات\n",
    "print(\"Training data shape:\", train_data.shape)\n",
    "print(\"Testing data shape:\", test_data.shape)"
   ]
  },
  {
   "cell_type": "code",
   "execution_count": null,
   "metadata": {},
   "outputs": [],
   "source": [
    "\n"
   ]
  },
  {
   "cell_type": "code",
   "execution_count": null,
   "metadata": {},
   "outputs": [],
   "source": []
  },
  {
   "cell_type": "code",
   "execution_count": null,
   "metadata": {},
   "outputs": [],
   "source": []
  },
  {
   "cell_type": "code",
   "execution_count": null,
   "metadata": {},
   "outputs": [],
   "source": []
  },
  {
   "cell_type": "code",
   "execution_count": 16,
   "metadata": {},
   "outputs": [
    {
     "name": "stdout",
     "output_type": "stream",
     "text": [
      "Model training complete.\n"
     ]
    }
   ],
   "source": [
    "import pandas as pd\n",
    "from sklearn.model_selection import train_test_split\n",
    "from sklearn.tree import DecisionTreeClassifier\n",
    "from sklearn.preprocessing import LabelEncoder\n",
    "\n",
    "# تحميل مجموعة بيانات\n",
    "medical_dataset = pd.read_csv('states.csv')\n",
    "\n",
    "# إزالة القيم المفقودة\n",
    "medical_dataset = medical_dataset.dropna()\n",
    "\n",
    "# تحويل الأعمدة الفئوية إلى أرقام باستخدام Label Encoding\n",
    "label_encoders = {}\n",
    "for column in medical_dataset.select_dtypes(include=['object']).columns:\n",
    "    le = LabelEncoder()\n",
    "    medical_dataset[column] = le.fit_transform(medical_dataset[column])\n",
    "    label_encoders[column] = le\n",
    "\n",
    "# تقسيم البيانات إلى مجموعة تدريب (70%) ومجموعة اختبار (30%)\n",
    "train_data, test_data = train_test_split(medical_dataset, test_size=0.03, random_state=42)\n",
    "\n",
    "# اختيار عمود مستهدف للتصنيف، على سبيل المثال 'State'\n",
    "train_diagnoses = train_data['State']\n",
    "\n",
    "# حذف العمود المستهدف للحصول على الميزات\n",
    "train_patient_symptoms = train_data.drop(columns=['State'])\n",
    "\n",
    "# بناء نموذج Decision Tree Classifier\n",
    "model = DecisionTreeClassifier(random_state=1)\n",
    "\n",
    "# بناء شجرة القرار\n",
    "model.fit(train_patient_symptoms, train_diagnoses)\n",
    "\n",
    "# إرجاع النموذج المدرب\n",
    "print(\"Model training complete.\")\n",
    "\n"
   ]
  },
  {
   "cell_type": "code",
   "execution_count": null,
   "metadata": {},
   "outputs": [],
   "source": []
  },
  {
   "cell_type": "code",
   "execution_count": null,
   "metadata": {},
   "outputs": [],
   "source": []
  },
  {
   "cell_type": "code",
   "execution_count": 21,
   "metadata": {},
   "outputs": [
    {
     "name": "stdout",
     "output_type": "stream",
     "text": [
      "Columns in test data: Index(['State', 'Uninsured Rate (2010)', 'Uninsured Rate (2015)',\n",
      "       'Uninsured Rate Change (2010-2015)',\n",
      "       'Health Insurance Coverage Change (2010-2015)',\n",
      "       'Employer Health Insurance Coverage (2015)',\n",
      "       'Marketplace Health Insurance Coverage (2016)',\n",
      "       'Marketplace Tax Credits (2016)', 'Average Monthly Tax Credit (2016)',\n",
      "       'State Medicaid Expansion (2016)', 'Medicaid Enrollment (2013)',\n",
      "       'Medicaid Enrollment (2016)', 'Medicaid Enrollment Change (2013-2016)',\n",
      "       'Medicare Enrollment (2016)'],\n",
      "      dtype='object')\n",
      "Missing values in test data:\n",
      " State                                           0\n",
      "Uninsured Rate (2010)                           0\n",
      "Uninsured Rate (2015)                           0\n",
      "Uninsured Rate Change (2010-2015)               0\n",
      "Health Insurance Coverage Change (2010-2015)    0\n",
      "Employer Health Insurance Coverage (2015)       0\n",
      "Marketplace Health Insurance Coverage (2016)    0\n",
      "Marketplace Tax Credits (2016)                  0\n",
      "Average Monthly Tax Credit (2016)               0\n",
      "State Medicaid Expansion (2016)                 0\n",
      "Medicaid Enrollment (2013)                      0\n",
      "Medicaid Enrollment (2016)                      0\n",
      "Medicaid Enrollment Change (2013-2016)          0\n",
      "Medicare Enrollment (2016)                      0\n",
      "dtype: int64\n",
      "Column 'diagnosis' does not exist in the test data.\n"
     ]
    }
   ],
   "source": [
    "# اختبار النموذج\n",
    "\n",
    "from sklearn.metrics import accuracy_score, confusion_matrix\n",
    "\n",
    "# طباعة أسماء الأعمدة للتحقق منها\n",
    "print(\"Columns in test data:\", test_data.columns)\n",
    "\n",
    "# تحقق من القيم المفقودة\n",
    "print(\"Missing values in test data:\\n\", test_data.isnull().sum())\n",
    "\n",
    "# حدد اسم العمود الصحيح هنا\n",
    "target_column = 'diagnosis'  # استبدل هذا بالاسم الصحيح إذا كان مختلفًا\n",
    "\n",
    "# تحقق مما إذا كان العمود موجودًا\n",
    "if target_column in test_data.columns:\n",
    "    # حذف العمود المستهدف للحصول على الأعراض فقط من مجموعة الاختبار\n",
    "    test_patient_symptoms = test_data.drop(columns=[target_column])\n",
    "\n",
    "    # الحصول على العمود المستهدف، لاستخدامه كهدف تصنيفي\n",
    "    test_diagnoses = test_data[target_column]\n",
    "\n",
    "    # توقع التشخيصات الأكثر احتمالًا\n",
    "    pred = model.predict(test_patient_symptoms)\n",
    "\n",
    "    # طباعة النتائج المتوقعة\n",
    "    print(\"Predicted diagnoses:\", pred)\n",
    "\n",
    "    # حساب دقة النموذج\n",
    "    accuracy = accuracy_score(test_diagnoses, pred)\n",
    "    print(\"Accuracy score:\", accuracy)\n",
    "\n",
    "    # طباعة مصفوفة الالتباس (Confusion Matrix) لتحليل النتائج\n",
    "    conf_matrix = confusion_matrix(test_diagnoses, pred)\n",
    "    print(\"Confusion Matrix:\\n\", conf_matrix)\n",
    "else:\n",
    "    print(f\"Column '{target_column}' does not exist in the test data.\")"
   ]
  },
  {
   "cell_type": "code",
   "execution_count": 3,
   "metadata": {},
   "outputs": [
    {
     "ename": "NameError",
     "evalue": "name 'confusion_matrix' is not defined",
     "output_type": "error",
     "traceback": [
      "\u001b[1;31m---------------------------------------------------------------------------\u001b[0m",
      "\u001b[1;31mNameError\u001b[0m                                 Traceback (most recent call last)",
      "\u001b[1;32m<ipython-input-3-7722b1bf678c>\u001b[0m in \u001b[0;36m<module>\u001b[1;34m\u001b[0m\n\u001b[1;32m----> 1\u001b[1;33m \u001b[0mconfusion_matrix\u001b[0m\u001b[1;33m(\u001b[0m\u001b[0mtest_diagnoses\u001b[0m\u001b[1;33m,\u001b[0m\u001b[0mpred\u001b[0m\u001b[1;33m)\u001b[0m\u001b[1;33m\u001b[0m\u001b[1;33m\u001b[0m\u001b[0m\n\u001b[0m",
      "\u001b[1;31mNameError\u001b[0m: name 'confusion_matrix' is not defined"
     ]
    }
   ],
   "source": [
    "confusion_matrix(test_diagnoses,pred)ضص"
   ]
  },
  {
   "cell_type": "code",
   "execution_count": 4,
   "metadata": {},
   "outputs": [
    {
     "name": "stdout",
     "output_type": "stream",
     "text": [
      "Confusion Matrix:\n",
      " [[1 1 0 0]\n",
      " [1 1 0 0]\n",
      " [0 0 2 0]\n",
      " [0 0 0 1]]\n"
     ]
    }
   ],
   "source": [
    "from sklearn.metrics import confusion_matrix\n",
    "\n",
    "# بيانات تجريبية (استبدلها ببياناتك)\n",
    "test_diagnoses = [0, 1, 0, 1, 2, 2, 3]  # القيم الحقيقية\n",
    "pred = [0, 0, 1, 1, 2, 2, 3]  # القيم المتوقعة\n",
    "\n",
    "# حساب مصفوفة الالتباس\n",
    "conf_matrix = confusion_matrix(test_diagnoses, pred)\n",
    "\n",
    "# طباعة مصفوفة الالتباس\n",
    "print(\"Confusion Matrix:\\n\", conf_matrix)\n"
   ]
  },
  {
   "cell_type": "code",
   "execution_count": null,
   "metadata": {},
   "outputs": [],
   "source": []
  }
 ],
 "metadata": {
  "kernelspec": {
   "display_name": "Python 3",
   "language": "python",
   "name": "python3"
  },
  "language_info": {
   "codemirror_mode": {
    "name": "ipython",
    "version": 3
   },
   "file_extension": ".py",
   "mimetype": "text/x-python",
   "name": "python",
   "nbconvert_exporter": "python",
   "pygments_lexer": "ipython3",
   "version": "3.8.5"
  }
 },
 "nbformat": 4,
 "nbformat_minor": 4
}
